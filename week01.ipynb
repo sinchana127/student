{
  "nbformat": 4,
  "nbformat_minor": 0,
  "metadata": {
    "colab": {
      "provenance": [],
      "authorship_tag": "ABX9TyOt8ZonLiQNheNFJ038DI8Q",
      "include_colab_link": true
    },
    "kernelspec": {
      "name": "python3",
      "display_name": "Python 3"
    },
    "language_info": {
      "name": "python"
    }
  },
  "cells": [
    {
      "cell_type": "markdown",
      "metadata": {
        "id": "view-in-github",
        "colab_type": "text"
      },
      "source": [
        "<a href=\"https://colab.research.google.com/github/sinchana127/student/blob/main/week01.ipynb\" target=\"_parent\"><img src=\"https://colab.research.google.com/assets/colab-badge.svg\" alt=\"Open In Colab\"/></a>"
      ]
    },
    {
      "cell_type": "code",
      "execution_count": null,
      "metadata": {
        "colab": {
          "base_uri": "https://localhost:8080/"
        },
        "id": "7YBIqcBzvKOI",
        "outputId": "83928ea6-5ccf-48ad-967b-300caeed40d6"
      },
      "outputs": [
        {
          "output_type": "stream",
          "name": "stdout",
          "text": [
            "[5 7 9]\n"
          ]
        }
      ],
      "source": [
        "import numpy as np\n",
        "a=np.array([1,2,3])\n",
        "b=np.array([4,5,6])\n",
        "result =a+b\n",
        "print(result)\n",
        "\n"
      ]
    },
    {
      "cell_type": "markdown",
      "source": [
        "# 2.map with numpy array"
      ],
      "metadata": {
        "id": "5VY79_2AxlPe"
      }
    },
    {
      "cell_type": "code",
      "source": [
        "import numpy as np\n",
        "a=np.array([4,6,2])\n",
        "result=list(map(lambda x:x**2,a))\n",
        "print(result)"
      ],
      "metadata": {
        "colab": {
          "base_uri": "https://localhost:8080/"
        },
        "id": "XrUMuV-8xxE2",
        "outputId": "7d6f34e6-0dd3-47d8-9f3a-d8b93a269399"
      },
      "execution_count": null,
      "outputs": [
        {
          "output_type": "stream",
          "name": "stdout",
          "text": [
            "[16, 36, 4]\n"
          ]
        }
      ]
    },
    {
      "cell_type": "markdown",
      "source": [
        "# 3.filter with numpy array"
      ],
      "metadata": {
        "id": "aqd3hXUJzBBE"
      }
    },
    {
      "cell_type": "code",
      "source": [
        "import numpy as np\n",
        "b=np.array([1,9,7,6,3])\n",
        "result=list(filter(lambda x:x % 3==0,b))\n",
        "print(result)"
      ],
      "metadata": {
        "colab": {
          "base_uri": "https://localhost:8080/"
        },
        "id": "SXdYBycCzHeE",
        "outputId": "d63f98d3-e2dd-44b9-e0cf-3f10e595b8a7"
      },
      "execution_count": null,
      "outputs": [
        {
          "output_type": "stream",
          "name": "stdout",
          "text": [
            "[9, 6, 3]\n"
          ]
        }
      ]
    },
    {
      "cell_type": "markdown",
      "source": [
        "# 4.dataframe"
      ],
      "metadata": {
        "id": "hp1JkfRIz_2F"
      }
    },
    {
      "cell_type": "code",
      "source": [
        "import pandas as pd\n",
        "data={'category':['A','B','A','B','A'],\n",
        "'value':[12,34,23,16,10]}\n",
        "df=pd.DataFrame(data)\n",
        "print(df)"
      ],
      "metadata": {
        "colab": {
          "base_uri": "https://localhost:8080/"
        },
        "id": "vMzdwOlz0nJK",
        "outputId": "a72730ff-89a6-4efa-c2b7-8d211c341785"
      },
      "execution_count": null,
      "outputs": [
        {
          "output_type": "stream",
          "name": "stdout",
          "text": [
            "  category  value\n",
            "0        A     12\n",
            "1        B     34\n",
            "2        A     23\n",
            "3        B     16\n",
            "4        A     10\n"
          ]
        }
      ]
    },
    {
      "cell_type": "markdown",
      "source": [
        "# 5.grouping and aggregation"
      ],
      "metadata": {
        "id": "Y-PjCJCX2IOJ"
      }
    },
    {
      "cell_type": "code",
      "source": [
        "import pandas as pd\n",
        "grouped=df.groupby('category')\n",
        "result=grouped.mean()\n",
        "print(result)"
      ],
      "metadata": {
        "colab": {
          "base_uri": "https://localhost:8080/"
        },
        "id": "vK9LMYXL2PRQ",
        "outputId": "72cffc6b-8261-4170-b8eb-72416ec01fd9"
      },
      "execution_count": null,
      "outputs": [
        {
          "output_type": "stream",
          "name": "stdout",
          "text": [
            "          value\n",
            "category       \n",
            "A          15.0\n",
            "B          25.0\n"
          ]
        }
      ]
    }
  ]
}