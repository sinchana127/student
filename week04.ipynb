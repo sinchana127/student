{
  "nbformat": 4,
  "nbformat_minor": 0,
  "metadata": {
    "colab": {
      "provenance": [],
      "authorship_tag": "ABX9TyPQW6mH/XL/Y3VmDBmzm/HF",
      "include_colab_link": true
    },
    "kernelspec": {
      "name": "python3",
      "display_name": "Python 3"
    },
    "language_info": {
      "name": "python"
    }
  },
  "cells": [
    {
      "cell_type": "markdown",
      "metadata": {
        "id": "view-in-github",
        "colab_type": "text"
      },
      "source": [
        "<a href=\"https://colab.research.google.com/github/sinchana127/student/blob/main/week04.ipynb\" target=\"_parent\"><img src=\"https://colab.research.google.com/assets/colab-badge.svg\" alt=\"Open In Colab\"/></a>"
      ]
    },
    {
      "cell_type": "code",
      "source": [
        "import pandas as pd\n",
        "data=pd.read_csv(\"/content/Salary_Data1.csv\")\n",
        "print(data)"
      ],
      "metadata": {
        "id": "WT6TsE2bx1iS",
        "colab": {
          "base_uri": "https://localhost:8080/"
        },
        "outputId": "eb384abc-b16d-4834-b522-bbaa2101d221"
      },
      "execution_count": null,
      "outputs": [
        {
          "output_type": "stream",
          "name": "stdout",
          "text": [
            "    YearsExperience    Salary\n",
            "0               1.1   39343.0\n",
            "1               1.3   46205.0\n",
            "2               1.5   37731.0\n",
            "3               2.0   43525.0\n",
            "4               2.2   39891.0\n",
            "5               2.9   56642.0\n",
            "6               3.0       NaN\n",
            "7               3.2   54445.0\n",
            "8               3.2   64445.0\n",
            "9               NaN   57189.0\n",
            "10              3.9   63218.0\n",
            "11              4.0       NaN\n",
            "12            500.0   56957.0\n",
            "13              4.1   57081.0\n",
            "14              4.5   61111.0\n",
            "15              4.9   67938.0\n",
            "16              5.1   66029.0\n",
            "17              5.3       NaN\n",
            "18              5.9   81363.0\n",
            "19              6.0   93940.0\n",
            "20              6.8   91738.0\n",
            "21              7.1   98273.0\n",
            "22              7.9       NaN\n",
            "23              8.2  113812.0\n",
            "24              8.7  109431.0\n",
            "25              9.0  105582.0\n",
            "26              9.5       NaN\n",
            "27              9.6  112635.0\n",
            "28             10.3  122391.0\n",
            "29              NaN  121872.0\n"
          ]
        }
      ]
    },
    {
      "cell_type": "code",
      "source": [
        "data.info()"
      ],
      "metadata": {
        "colab": {
          "base_uri": "https://localhost:8080/"
        },
        "id": "Gh0e1EoL6OnG",
        "outputId": "9aead6ed-45e1-483c-c5d5-c5556892c853"
      },
      "execution_count": null,
      "outputs": [
        {
          "output_type": "stream",
          "name": "stdout",
          "text": [
            "<class 'pandas.core.frame.DataFrame'>\n",
            "RangeIndex: 30 entries, 0 to 29\n",
            "Data columns (total 2 columns):\n",
            " #   Column           Non-Null Count  Dtype  \n",
            "---  ------           --------------  -----  \n",
            " 0   YearsExperience  28 non-null     float64\n",
            " 1   Salary           25 non-null     float64\n",
            "dtypes: float64(2)\n",
            "memory usage: 608.0 bytes\n"
          ]
        }
      ]
    },
    {
      "cell_type": "code",
      "source": [
        "data.describe()"
      ],
      "metadata": {
        "colab": {
          "base_uri": "https://localhost:8080/",
          "height": 300
        },
        "id": "zbEKmTh56S2l",
        "outputId": "9b2dc2ad-f742-4bca-dc86-81728e2f24b1"
      },
      "execution_count": null,
      "outputs": [
        {
          "output_type": "execute_result",
          "data": {
            "text/plain": [
              "       YearsExperience         Salary\n",
              "count        28.000000      25.000000\n",
              "mean         22.900000   74511.480000\n",
              "std          93.542836   27921.908201\n",
              "min           1.100000   37731.000000\n",
              "25%           3.150000   56642.000000\n",
              "50%           5.000000   64445.000000\n",
              "75%           7.975000   98273.000000\n",
              "max         500.000000  122391.000000"
            ],
            "text/html": [
              "\n",
              "  <div id=\"df-7cb64c43-de96-48e2-b18b-45f177617a25\" class=\"colab-df-container\">\n",
              "    <div>\n",
              "<style scoped>\n",
              "    .dataframe tbody tr th:only-of-type {\n",
              "        vertical-align: middle;\n",
              "    }\n",
              "\n",
              "    .dataframe tbody tr th {\n",
              "        vertical-align: top;\n",
              "    }\n",
              "\n",
              "    .dataframe thead th {\n",
              "        text-align: right;\n",
              "    }\n",
              "</style>\n",
              "<table border=\"1\" class=\"dataframe\">\n",
              "  <thead>\n",
              "    <tr style=\"text-align: right;\">\n",
              "      <th></th>\n",
              "      <th>YearsExperience</th>\n",
              "      <th>Salary</th>\n",
              "    </tr>\n",
              "  </thead>\n",
              "  <tbody>\n",
              "    <tr>\n",
              "      <th>count</th>\n",
              "      <td>28.000000</td>\n",
              "      <td>25.000000</td>\n",
              "    </tr>\n",
              "    <tr>\n",
              "      <th>mean</th>\n",
              "      <td>22.900000</td>\n",
              "      <td>74511.480000</td>\n",
              "    </tr>\n",
              "    <tr>\n",
              "      <th>std</th>\n",
              "      <td>93.542836</td>\n",
              "      <td>27921.908201</td>\n",
              "    </tr>\n",
              "    <tr>\n",
              "      <th>min</th>\n",
              "      <td>1.100000</td>\n",
              "      <td>37731.000000</td>\n",
              "    </tr>\n",
              "    <tr>\n",
              "      <th>25%</th>\n",
              "      <td>3.150000</td>\n",
              "      <td>56642.000000</td>\n",
              "    </tr>\n",
              "    <tr>\n",
              "      <th>50%</th>\n",
              "      <td>5.000000</td>\n",
              "      <td>64445.000000</td>\n",
              "    </tr>\n",
              "    <tr>\n",
              "      <th>75%</th>\n",
              "      <td>7.975000</td>\n",
              "      <td>98273.000000</td>\n",
              "    </tr>\n",
              "    <tr>\n",
              "      <th>max</th>\n",
              "      <td>500.000000</td>\n",
              "      <td>122391.000000</td>\n",
              "    </tr>\n",
              "  </tbody>\n",
              "</table>\n",
              "</div>\n",
              "    <div class=\"colab-df-buttons\">\n",
              "\n",
              "  <div class=\"colab-df-container\">\n",
              "    <button class=\"colab-df-convert\" onclick=\"convertToInteractive('df-7cb64c43-de96-48e2-b18b-45f177617a25')\"\n",
              "            title=\"Convert this dataframe to an interactive table.\"\n",
              "            style=\"display:none;\">\n",
              "\n",
              "  <svg xmlns=\"http://www.w3.org/2000/svg\" height=\"24px\" viewBox=\"0 -960 960 960\">\n",
              "    <path d=\"M120-120v-720h720v720H120Zm60-500h600v-160H180v160Zm220 220h160v-160H400v160Zm0 220h160v-160H400v160ZM180-400h160v-160H180v160Zm440 0h160v-160H620v160ZM180-180h160v-160H180v160Zm440 0h160v-160H620v160Z\"/>\n",
              "  </svg>\n",
              "    </button>\n",
              "\n",
              "  <style>\n",
              "    .colab-df-container {\n",
              "      display:flex;\n",
              "      gap: 12px;\n",
              "    }\n",
              "\n",
              "    .colab-df-convert {\n",
              "      background-color: #E8F0FE;\n",
              "      border: none;\n",
              "      border-radius: 50%;\n",
              "      cursor: pointer;\n",
              "      display: none;\n",
              "      fill: #1967D2;\n",
              "      height: 32px;\n",
              "      padding: 0 0 0 0;\n",
              "      width: 32px;\n",
              "    }\n",
              "\n",
              "    .colab-df-convert:hover {\n",
              "      background-color: #E2EBFA;\n",
              "      box-shadow: 0px 1px 2px rgba(60, 64, 67, 0.3), 0px 1px 3px 1px rgba(60, 64, 67, 0.15);\n",
              "      fill: #174EA6;\n",
              "    }\n",
              "\n",
              "    .colab-df-buttons div {\n",
              "      margin-bottom: 4px;\n",
              "    }\n",
              "\n",
              "    [theme=dark] .colab-df-convert {\n",
              "      background-color: #3B4455;\n",
              "      fill: #D2E3FC;\n",
              "    }\n",
              "\n",
              "    [theme=dark] .colab-df-convert:hover {\n",
              "      background-color: #434B5C;\n",
              "      box-shadow: 0px 1px 3px 1px rgba(0, 0, 0, 0.15);\n",
              "      filter: drop-shadow(0px 1px 2px rgba(0, 0, 0, 0.3));\n",
              "      fill: #FFFFFF;\n",
              "    }\n",
              "  </style>\n",
              "\n",
              "    <script>\n",
              "      const buttonEl =\n",
              "        document.querySelector('#df-7cb64c43-de96-48e2-b18b-45f177617a25 button.colab-df-convert');\n",
              "      buttonEl.style.display =\n",
              "        google.colab.kernel.accessAllowed ? 'block' : 'none';\n",
              "\n",
              "      async function convertToInteractive(key) {\n",
              "        const element = document.querySelector('#df-7cb64c43-de96-48e2-b18b-45f177617a25');\n",
              "        const dataTable =\n",
              "          await google.colab.kernel.invokeFunction('convertToInteractive',\n",
              "                                                    [key], {});\n",
              "        if (!dataTable) return;\n",
              "\n",
              "        const docLinkHtml = 'Like what you see? Visit the ' +\n",
              "          '<a target=\"_blank\" href=https://colab.research.google.com/notebooks/data_table.ipynb>data table notebook</a>'\n",
              "          + ' to learn more about interactive tables.';\n",
              "        element.innerHTML = '';\n",
              "        dataTable['output_type'] = 'display_data';\n",
              "        await google.colab.output.renderOutput(dataTable, element);\n",
              "        const docLink = document.createElement('div');\n",
              "        docLink.innerHTML = docLinkHtml;\n",
              "        element.appendChild(docLink);\n",
              "      }\n",
              "    </script>\n",
              "  </div>\n",
              "\n",
              "\n",
              "<div id=\"df-c22a0f97-666d-4829-ae5c-5ae02cfd3551\">\n",
              "  <button class=\"colab-df-quickchart\" onclick=\"quickchart('df-c22a0f97-666d-4829-ae5c-5ae02cfd3551')\"\n",
              "            title=\"Suggest charts\"\n",
              "            style=\"display:none;\">\n",
              "\n",
              "<svg xmlns=\"http://www.w3.org/2000/svg\" height=\"24px\"viewBox=\"0 0 24 24\"\n",
              "     width=\"24px\">\n",
              "    <g>\n",
              "        <path d=\"M19 3H5c-1.1 0-2 .9-2 2v14c0 1.1.9 2 2 2h14c1.1 0 2-.9 2-2V5c0-1.1-.9-2-2-2zM9 17H7v-7h2v7zm4 0h-2V7h2v10zm4 0h-2v-4h2v4z\"/>\n",
              "    </g>\n",
              "</svg>\n",
              "  </button>\n",
              "\n",
              "<style>\n",
              "  .colab-df-quickchart {\n",
              "      --bg-color: #E8F0FE;\n",
              "      --fill-color: #1967D2;\n",
              "      --hover-bg-color: #E2EBFA;\n",
              "      --hover-fill-color: #174EA6;\n",
              "      --disabled-fill-color: #AAA;\n",
              "      --disabled-bg-color: #DDD;\n",
              "  }\n",
              "\n",
              "  [theme=dark] .colab-df-quickchart {\n",
              "      --bg-color: #3B4455;\n",
              "      --fill-color: #D2E3FC;\n",
              "      --hover-bg-color: #434B5C;\n",
              "      --hover-fill-color: #FFFFFF;\n",
              "      --disabled-bg-color: #3B4455;\n",
              "      --disabled-fill-color: #666;\n",
              "  }\n",
              "\n",
              "  .colab-df-quickchart {\n",
              "    background-color: var(--bg-color);\n",
              "    border: none;\n",
              "    border-radius: 50%;\n",
              "    cursor: pointer;\n",
              "    display: none;\n",
              "    fill: var(--fill-color);\n",
              "    height: 32px;\n",
              "    padding: 0;\n",
              "    width: 32px;\n",
              "  }\n",
              "\n",
              "  .colab-df-quickchart:hover {\n",
              "    background-color: var(--hover-bg-color);\n",
              "    box-shadow: 0 1px 2px rgba(60, 64, 67, 0.3), 0 1px 3px 1px rgba(60, 64, 67, 0.15);\n",
              "    fill: var(--button-hover-fill-color);\n",
              "  }\n",
              "\n",
              "  .colab-df-quickchart-complete:disabled,\n",
              "  .colab-df-quickchart-complete:disabled:hover {\n",
              "    background-color: var(--disabled-bg-color);\n",
              "    fill: var(--disabled-fill-color);\n",
              "    box-shadow: none;\n",
              "  }\n",
              "\n",
              "  .colab-df-spinner {\n",
              "    border: 2px solid var(--fill-color);\n",
              "    border-color: transparent;\n",
              "    border-bottom-color: var(--fill-color);\n",
              "    animation:\n",
              "      spin 1s steps(1) infinite;\n",
              "  }\n",
              "\n",
              "  @keyframes spin {\n",
              "    0% {\n",
              "      border-color: transparent;\n",
              "      border-bottom-color: var(--fill-color);\n",
              "      border-left-color: var(--fill-color);\n",
              "    }\n",
              "    20% {\n",
              "      border-color: transparent;\n",
              "      border-left-color: var(--fill-color);\n",
              "      border-top-color: var(--fill-color);\n",
              "    }\n",
              "    30% {\n",
              "      border-color: transparent;\n",
              "      border-left-color: var(--fill-color);\n",
              "      border-top-color: var(--fill-color);\n",
              "      border-right-color: var(--fill-color);\n",
              "    }\n",
              "    40% {\n",
              "      border-color: transparent;\n",
              "      border-right-color: var(--fill-color);\n",
              "      border-top-color: var(--fill-color);\n",
              "    }\n",
              "    60% {\n",
              "      border-color: transparent;\n",
              "      border-right-color: var(--fill-color);\n",
              "    }\n",
              "    80% {\n",
              "      border-color: transparent;\n",
              "      border-right-color: var(--fill-color);\n",
              "      border-bottom-color: var(--fill-color);\n",
              "    }\n",
              "    90% {\n",
              "      border-color: transparent;\n",
              "      border-bottom-color: var(--fill-color);\n",
              "    }\n",
              "  }\n",
              "</style>\n",
              "\n",
              "  <script>\n",
              "    async function quickchart(key) {\n",
              "      const quickchartButtonEl =\n",
              "        document.querySelector('#' + key + ' button');\n",
              "      quickchartButtonEl.disabled = true;  // To prevent multiple clicks.\n",
              "      quickchartButtonEl.classList.add('colab-df-spinner');\n",
              "      try {\n",
              "        const charts = await google.colab.kernel.invokeFunction(\n",
              "            'suggestCharts', [key], {});\n",
              "      } catch (error) {\n",
              "        console.error('Error during call to suggestCharts:', error);\n",
              "      }\n",
              "      quickchartButtonEl.classList.remove('colab-df-spinner');\n",
              "      quickchartButtonEl.classList.add('colab-df-quickchart-complete');\n",
              "    }\n",
              "    (() => {\n",
              "      let quickchartButtonEl =\n",
              "        document.querySelector('#df-c22a0f97-666d-4829-ae5c-5ae02cfd3551 button');\n",
              "      quickchartButtonEl.style.display =\n",
              "        google.colab.kernel.accessAllowed ? 'block' : 'none';\n",
              "    })();\n",
              "  </script>\n",
              "</div>\n",
              "\n",
              "    </div>\n",
              "  </div>\n"
            ],
            "application/vnd.google.colaboratory.intrinsic+json": {
              "type": "dataframe",
              "summary": "{\n  \"name\": \"data\",\n  \"rows\": 8,\n  \"fields\": [\n    {\n      \"column\": \"YearsExperience\",\n      \"properties\": {\n        \"dtype\": \"number\",\n        \"std\": 171.31127252073404,\n        \"min\": 1.1,\n        \"max\": 500.0,\n        \"num_unique_values\": 8,\n        \"samples\": [\n          22.900000000000002,\n          5.0,\n          28.0\n        ],\n        \"semantic_type\": \"\",\n        \"description\": \"\"\n      }\n    },\n    {\n      \"column\": \"Salary\",\n      \"properties\": {\n        \"dtype\": \"number\",\n        \"std\": 39134.418486525545,\n        \"min\": 25.0,\n        \"max\": 122391.0,\n        \"num_unique_values\": 8,\n        \"samples\": [\n          74511.48,\n          64445.0,\n          25.0\n        ],\n        \"semantic_type\": \"\",\n        \"description\": \"\"\n      }\n    }\n  ]\n}"
            }
          },
          "metadata": {},
          "execution_count": 11
        }
      ]
    },
    {
      "cell_type": "code",
      "source": [
        "data.shape"
      ],
      "metadata": {
        "colab": {
          "base_uri": "https://localhost:8080/"
        },
        "id": "U_NAtKyk6VXl",
        "outputId": "aee2d2e7-dc34-4d82-da7d-cf544e5ab369"
      },
      "execution_count": null,
      "outputs": [
        {
          "output_type": "execute_result",
          "data": {
            "text/plain": [
              "(30, 2)"
            ]
          },
          "metadata": {},
          "execution_count": 12
        }
      ]
    },
    {
      "cell_type": "code",
      "source": [
        "data.isna().sum()"
      ],
      "metadata": {
        "colab": {
          "base_uri": "https://localhost:8080/",
          "height": 147
        },
        "id": "mwXWFeUf6ZT9",
        "outputId": "977caad2-894d-46eb-c471-7dff016ae256"
      },
      "execution_count": null,
      "outputs": [
        {
          "output_type": "execute_result",
          "data": {
            "text/plain": [
              "YearsExperience    2\n",
              "Salary             5\n",
              "dtype: int64"
            ],
            "text/html": [
              "<table border=\"1\" class=\"dataframe\">\n",
              "  <thead>\n",
              "    <tr style=\"text-align: right;\">\n",
              "      <th></th>\n",
              "      <th>0</th>\n",
              "    </tr>\n",
              "  </thead>\n",
              "  <tbody>\n",
              "    <tr>\n",
              "      <th>YearsExperience</th>\n",
              "      <td>2</td>\n",
              "    </tr>\n",
              "    <tr>\n",
              "      <th>Salary</th>\n",
              "      <td>5</td>\n",
              "    </tr>\n",
              "  </tbody>\n",
              "</table><br><label><b>dtype:</b> int64</label>"
            ]
          },
          "metadata": {},
          "execution_count": 13
        }
      ]
    },
    {
      "cell_type": "code",
      "source": [
        "#univariate outlier\n",
        "import pandas as pd\n",
        "import numpy as np\n",
        "df=pd.read_csv(\"/content/Salary_Data1.csv\")\n",
        "z_score=np.abs((df-df.mean())/df.std())\n",
        "outliers=z_score>3\n",
        "print(df[outliers])\n"
      ],
      "metadata": {
        "colab": {
          "base_uri": "https://localhost:8080/"
        },
        "id": "7tHYIk0rK-_6",
        "outputId": "8e6338e8-893b-4e25-d293-f44c56816093"
      },
      "execution_count": 5,
      "outputs": [
        {
          "output_type": "stream",
          "name": "stdout",
          "text": [
            "    YearsExperience  Salary\n",
            "0               NaN     NaN\n",
            "1               NaN     NaN\n",
            "2               NaN     NaN\n",
            "3               NaN     NaN\n",
            "4               NaN     NaN\n",
            "5               NaN     NaN\n",
            "6               NaN     NaN\n",
            "7               NaN     NaN\n",
            "8               NaN     NaN\n",
            "9               NaN     NaN\n",
            "10              NaN     NaN\n",
            "11              NaN     NaN\n",
            "12            500.0     NaN\n",
            "13              NaN     NaN\n",
            "14              NaN     NaN\n",
            "15              NaN     NaN\n",
            "16              NaN     NaN\n",
            "17              NaN     NaN\n",
            "18              NaN     NaN\n",
            "19              NaN     NaN\n",
            "20              NaN     NaN\n",
            "21              NaN     NaN\n",
            "22              NaN     NaN\n",
            "23              NaN     NaN\n",
            "24              NaN     NaN\n",
            "25              NaN     NaN\n",
            "26              NaN     NaN\n",
            "27              NaN     NaN\n",
            "28              NaN     NaN\n",
            "29              NaN     NaN\n"
          ]
        }
      ]
    },
    {
      "cell_type": "code",
      "source": [
        "import pandas as pd\n",
        "data=pd.Series([10,12,15,8,500,18,20,25,30])\n",
        "z_score=(data-data.mean())/data.std()\n",
        "outlier=data[abs(z_score)>3]\n",
        "print(\"Univariate outliers:\",outliers)"
      ],
      "metadata": {
        "colab": {
          "base_uri": "https://localhost:8080/"
        },
        "id": "Pmt9XlB-PTvg",
        "outputId": "87c02b85-fd51-4201-ccc4-fb529a765165"
      },
      "execution_count": 10,
      "outputs": [
        {
          "output_type": "stream",
          "name": "stdout",
          "text": [
            "Univariate outliers:     YearsExperience  Salary\n",
            "0             False   False\n",
            "1             False   False\n",
            "2             False   False\n",
            "3             False   False\n",
            "4             False   False\n",
            "5             False   False\n",
            "6             False   False\n",
            "7             False   False\n",
            "8             False   False\n",
            "9             False   False\n",
            "10            False   False\n",
            "11            False   False\n",
            "12             True   False\n",
            "13            False   False\n",
            "14            False   False\n",
            "15            False   False\n",
            "16            False   False\n",
            "17            False   False\n",
            "18            False   False\n",
            "19            False   False\n",
            "20            False   False\n",
            "21            False   False\n",
            "22            False   False\n",
            "23            False   False\n",
            "24            False   False\n",
            "25            False   False\n",
            "26            False   False\n",
            "27            False   False\n",
            "28            False   False\n",
            "29            False   False\n"
          ]
        }
      ]
    },
    {
      "cell_type": "code",
      "source": [
        "#Bivariate outlier detection\n",
        "from scipy.spatial.distance import mahalanobis\n",
        "import numpy as np\n",
        "data=np.array([[1,2],\n",
        "               [2,3],\n",
        "               [5,6],\n",
        "               [10,15],\n",
        "               [20,25]])\n",
        "mean=np.mean(data, axis=0)\n",
        "cov_matrix=np.cov(data, rowvar=False)\n",
        "inv_cov_matrix=np.linalg.inv(cov_matrix)\n",
        "\n",
        "outliers=[]\n",
        "for point in data:\n",
        "  mahalanobis_dist=mahalanobis(point,mean,inv_cov_matrix)\n",
        "  if mahalanobis_dist>-1:\n",
        "    outliers.append(point)\n",
        "print(\"Bivariate outliers:\", outliers)\n",
        "\n"
      ],
      "metadata": {
        "colab": {
          "base_uri": "https://localhost:8080/"
        },
        "id": "LalIr9ikQ7HG",
        "outputId": "75e1c900-ace7-46d9-e48c-96e951d709b2"
      },
      "execution_count": 3,
      "outputs": [
        {
          "output_type": "stream",
          "name": "stdout",
          "text": [
            "Bivariate outliers: [array([1, 2]), array([2, 3]), array([5, 6]), array([10, 15]), array([20, 25])]\n"
          ]
        }
      ]
    },
    {
      "cell_type": "code",
      "source": [
        "#Time series outlier detection\n",
        "import pandas as pd\n",
        "data=pd.Series([10,45,21,90,300,76,54,43,19])\n",
        "rolling_mean=data.rolling(window=3).mean()\n",
        "rolling_std=data.rolling(window=3).std()\n",
        "outlier=data[(data-rolling_mean).abs()>2*rolling_std]\n",
        "print(\"Time series outliers:\",outliers)"
      ],
      "metadata": {
        "colab": {
          "base_uri": "https://localhost:8080/"
        },
        "id": "Ip4gACzlVpOP",
        "outputId": "bfeccc96-5350-44db-b82e-751dd064e300"
      },
      "execution_count": 4,
      "outputs": [
        {
          "output_type": "stream",
          "name": "stdout",
          "text": [
            "Time series outliers: [array([1, 2]), array([2, 3]), array([5, 6]), array([10, 15]), array([20, 25])]\n"
          ]
        }
      ]
    },
    {
      "cell_type": "code",
      "source": [
        "#Upper or Lower cap\n",
        "data=pd.Series([1,12,15,18,8,500,18,20,25,30])\n",
        "upper_cap=40\n",
        "lower_cap=5\n",
        "data_clipped=data.clip(lower=lower_cap,upper=upper_cap)\n",
        "print(\"Data with capped outliers\",data_clipped)"
      ],
      "metadata": {
        "colab": {
          "base_uri": "https://localhost:8080/"
        },
        "id": "hUtHUbCzWx6o",
        "outputId": "9740d98e-0406-4b75-8385-e99b91f7ad05"
      },
      "execution_count": 10,
      "outputs": [
        {
          "output_type": "stream",
          "name": "stdout",
          "text": [
            "Data with capped outliers 0     5\n",
            "1    12\n",
            "2    15\n",
            "3    18\n",
            "4     8\n",
            "5    40\n",
            "6    18\n",
            "7    20\n",
            "8    25\n",
            "9    30\n",
            "dtype: int64\n"
          ]
        }
      ]
    },
    {
      "cell_type": "code",
      "source": [
        "#Log transformation\n",
        "import numpy as np\n",
        "import pandas as pd\n",
        "data=pd.Series([10,8,15,8,500,18,20,25,21])\n",
        "data_log_transformed=np.log(data)\n",
        "print(\"Log-transformed data:\",data_log_transformed)"
      ],
      "metadata": {
        "colab": {
          "base_uri": "https://localhost:8080/"
        },
        "id": "PYY8vs7fYPa8",
        "outputId": "243a05c8-d7a4-4e03-80d1-242917c98493"
      },
      "execution_count": 16,
      "outputs": [
        {
          "output_type": "stream",
          "name": "stdout",
          "text": [
            "Log-transformed data: 0    2.302585\n",
            "1    2.079442\n",
            "2    2.708050\n",
            "3    2.079442\n",
            "4    6.214608\n",
            "5    2.890372\n",
            "6    2.995732\n",
            "7    3.218876\n",
            "8    3.044522\n",
            "dtype: float64\n"
          ]
        }
      ]
    },
    {
      "cell_type": "code",
      "source": [
        "#Remove data objects with outlier\n",
        "import pandas as pd\n",
        "data=pd.Series([10,12,15,8,100,87,45,34])\n",
        "outliers=[100]\n",
        "data_cleaned=data[~data.isin(outliers)]\n",
        "print(\"Data with outliers removed:\",data_cleaned)"
      ],
      "metadata": {
        "colab": {
          "base_uri": "https://localhost:8080/"
        },
        "id": "enDswRVWZhwT",
        "outputId": "876a0910-5032-48f0-e2ac-566df23211cc"
      },
      "execution_count": 15,
      "outputs": [
        {
          "output_type": "stream",
          "name": "stdout",
          "text": [
            "Data with outliers removed: 0    10\n",
            "1    12\n",
            "2    15\n",
            "3     8\n",
            "5    87\n",
            "6    45\n",
            "7    34\n",
            "dtype: int64\n"
          ]
        }
      ]
    }
  ]
}