{
  "nbformat": 4,
  "nbformat_minor": 0,
  "metadata": {
    "colab": {
      "provenance": [],
      "authorship_tag": "ABX9TyOhl73/Tj0fn1aM+UbegeaH",
      "include_colab_link": true
    },
    "kernelspec": {
      "name": "python3",
      "display_name": "Python 3"
    },
    "language_info": {
      "name": "python"
    }
  },
  "cells": [
    {
      "cell_type": "markdown",
      "metadata": {
        "id": "view-in-github",
        "colab_type": "text"
      },
      "source": [
        "<a href=\"https://colab.research.google.com/github/sinchana127/student/blob/main/CIE2_158CS22049.ipynb\" target=\"_parent\"><img src=\"https://colab.research.google.com/assets/colab-badge.svg\" alt=\"Open In Colab\"/></a>"
      ]
    },
    {
      "cell_type": "code",
      "execution_count": null,
      "metadata": {
        "colab": {
          "base_uri": "https://localhost:8080/",
          "height": 175
        },
        "id": "AHCOhRkgOGkR",
        "outputId": "580d93ea-b616-42a3-8759-c6f9b90c0425"
      },
      "outputs": [
        {
          "output_type": "execute_result",
          "data": {
            "text/plain": [
              "    mpg  cylinders  displacement  horsepower  weight  acceleration  model-year\n",
              "0  18.0          8         307.0       130.0    3504          12.0          70\n",
              "1  15.0          8         350.0       165.0    3693          11.5          70\n",
              "2  18.0          8         318.0       150.0    3436          11.0          70\n",
              "3  16.0          8         304.0       150.0    3433          12.0          70"
            ],
            "text/html": [
              "\n",
              "  <div id=\"df-4f819198-7be5-4595-a2c5-fef34789fc4b\" class=\"colab-df-container\">\n",
              "    <div>\n",
              "<style scoped>\n",
              "    .dataframe tbody tr th:only-of-type {\n",
              "        vertical-align: middle;\n",
              "    }\n",
              "\n",
              "    .dataframe tbody tr th {\n",
              "        vertical-align: top;\n",
              "    }\n",
              "\n",
              "    .dataframe thead th {\n",
              "        text-align: right;\n",
              "    }\n",
              "</style>\n",
              "<table border=\"1\" class=\"dataframe\">\n",
              "  <thead>\n",
              "    <tr style=\"text-align: right;\">\n",
              "      <th></th>\n",
              "      <th>mpg</th>\n",
              "      <th>cylinders</th>\n",
              "      <th>displacement</th>\n",
              "      <th>horsepower</th>\n",
              "      <th>weight</th>\n",
              "      <th>acceleration</th>\n",
              "      <th>model-year</th>\n",
              "    </tr>\n",
              "  </thead>\n",
              "  <tbody>\n",
              "    <tr>\n",
              "      <th>0</th>\n",
              "      <td>18.0</td>\n",
              "      <td>8</td>\n",
              "      <td>307.0</td>\n",
              "      <td>130.0</td>\n",
              "      <td>3504</td>\n",
              "      <td>12.0</td>\n",
              "      <td>70</td>\n",
              "    </tr>\n",
              "    <tr>\n",
              "      <th>1</th>\n",
              "      <td>15.0</td>\n",
              "      <td>8</td>\n",
              "      <td>350.0</td>\n",
              "      <td>165.0</td>\n",
              "      <td>3693</td>\n",
              "      <td>11.5</td>\n",
              "      <td>70</td>\n",
              "    </tr>\n",
              "    <tr>\n",
              "      <th>2</th>\n",
              "      <td>18.0</td>\n",
              "      <td>8</td>\n",
              "      <td>318.0</td>\n",
              "      <td>150.0</td>\n",
              "      <td>3436</td>\n",
              "      <td>11.0</td>\n",
              "      <td>70</td>\n",
              "    </tr>\n",
              "    <tr>\n",
              "      <th>3</th>\n",
              "      <td>16.0</td>\n",
              "      <td>8</td>\n",
              "      <td>304.0</td>\n",
              "      <td>150.0</td>\n",
              "      <td>3433</td>\n",
              "      <td>12.0</td>\n",
              "      <td>70</td>\n",
              "    </tr>\n",
              "  </tbody>\n",
              "</table>\n",
              "</div>\n",
              "    <div class=\"colab-df-buttons\">\n",
              "\n",
              "  <div class=\"colab-df-container\">\n",
              "    <button class=\"colab-df-convert\" onclick=\"convertToInteractive('df-4f819198-7be5-4595-a2c5-fef34789fc4b')\"\n",
              "            title=\"Convert this dataframe to an interactive table.\"\n",
              "            style=\"display:none;\">\n",
              "\n",
              "  <svg xmlns=\"http://www.w3.org/2000/svg\" height=\"24px\" viewBox=\"0 -960 960 960\">\n",
              "    <path d=\"M120-120v-720h720v720H120Zm60-500h600v-160H180v160Zm220 220h160v-160H400v160Zm0 220h160v-160H400v160ZM180-400h160v-160H180v160Zm440 0h160v-160H620v160ZM180-180h160v-160H180v160Zm440 0h160v-160H620v160Z\"/>\n",
              "  </svg>\n",
              "    </button>\n",
              "\n",
              "  <style>\n",
              "    .colab-df-container {\n",
              "      display:flex;\n",
              "      gap: 12px;\n",
              "    }\n",
              "\n",
              "    .colab-df-convert {\n",
              "      background-color: #E8F0FE;\n",
              "      border: none;\n",
              "      border-radius: 50%;\n",
              "      cursor: pointer;\n",
              "      display: none;\n",
              "      fill: #1967D2;\n",
              "      height: 32px;\n",
              "      padding: 0 0 0 0;\n",
              "      width: 32px;\n",
              "    }\n",
              "\n",
              "    .colab-df-convert:hover {\n",
              "      background-color: #E2EBFA;\n",
              "      box-shadow: 0px 1px 2px rgba(60, 64, 67, 0.3), 0px 1px 3px 1px rgba(60, 64, 67, 0.15);\n",
              "      fill: #174EA6;\n",
              "    }\n",
              "\n",
              "    .colab-df-buttons div {\n",
              "      margin-bottom: 4px;\n",
              "    }\n",
              "\n",
              "    [theme=dark] .colab-df-convert {\n",
              "      background-color: #3B4455;\n",
              "      fill: #D2E3FC;\n",
              "    }\n",
              "\n",
              "    [theme=dark] .colab-df-convert:hover {\n",
              "      background-color: #434B5C;\n",
              "      box-shadow: 0px 1px 3px 1px rgba(0, 0, 0, 0.15);\n",
              "      filter: drop-shadow(0px 1px 2px rgba(0, 0, 0, 0.3));\n",
              "      fill: #FFFFFF;\n",
              "    }\n",
              "  </style>\n",
              "\n",
              "    <script>\n",
              "      const buttonEl =\n",
              "        document.querySelector('#df-4f819198-7be5-4595-a2c5-fef34789fc4b button.colab-df-convert');\n",
              "      buttonEl.style.display =\n",
              "        google.colab.kernel.accessAllowed ? 'block' : 'none';\n",
              "\n",
              "      async function convertToInteractive(key) {\n",
              "        const element = document.querySelector('#df-4f819198-7be5-4595-a2c5-fef34789fc4b');\n",
              "        const dataTable =\n",
              "          await google.colab.kernel.invokeFunction('convertToInteractive',\n",
              "                                                    [key], {});\n",
              "        if (!dataTable) return;\n",
              "\n",
              "        const docLinkHtml = 'Like what you see? Visit the ' +\n",
              "          '<a target=\"_blank\" href=https://colab.research.google.com/notebooks/data_table.ipynb>data table notebook</a>'\n",
              "          + ' to learn more about interactive tables.';\n",
              "        element.innerHTML = '';\n",
              "        dataTable['output_type'] = 'display_data';\n",
              "        await google.colab.output.renderOutput(dataTable, element);\n",
              "        const docLink = document.createElement('div');\n",
              "        docLink.innerHTML = docLinkHtml;\n",
              "        element.appendChild(docLink);\n",
              "      }\n",
              "    </script>\n",
              "  </div>\n",
              "\n",
              "\n",
              "<div id=\"df-09f32a4c-6740-403a-a010-9e81bccfffa7\">\n",
              "  <button class=\"colab-df-quickchart\" onclick=\"quickchart('df-09f32a4c-6740-403a-a010-9e81bccfffa7')\"\n",
              "            title=\"Suggest charts\"\n",
              "            style=\"display:none;\">\n",
              "\n",
              "<svg xmlns=\"http://www.w3.org/2000/svg\" height=\"24px\"viewBox=\"0 0 24 24\"\n",
              "     width=\"24px\">\n",
              "    <g>\n",
              "        <path d=\"M19 3H5c-1.1 0-2 .9-2 2v14c0 1.1.9 2 2 2h14c1.1 0 2-.9 2-2V5c0-1.1-.9-2-2-2zM9 17H7v-7h2v7zm4 0h-2V7h2v10zm4 0h-2v-4h2v4z\"/>\n",
              "    </g>\n",
              "</svg>\n",
              "  </button>\n",
              "\n",
              "<style>\n",
              "  .colab-df-quickchart {\n",
              "      --bg-color: #E8F0FE;\n",
              "      --fill-color: #1967D2;\n",
              "      --hover-bg-color: #E2EBFA;\n",
              "      --hover-fill-color: #174EA6;\n",
              "      --disabled-fill-color: #AAA;\n",
              "      --disabled-bg-color: #DDD;\n",
              "  }\n",
              "\n",
              "  [theme=dark] .colab-df-quickchart {\n",
              "      --bg-color: #3B4455;\n",
              "      --fill-color: #D2E3FC;\n",
              "      --hover-bg-color: #434B5C;\n",
              "      --hover-fill-color: #FFFFFF;\n",
              "      --disabled-bg-color: #3B4455;\n",
              "      --disabled-fill-color: #666;\n",
              "  }\n",
              "\n",
              "  .colab-df-quickchart {\n",
              "    background-color: var(--bg-color);\n",
              "    border: none;\n",
              "    border-radius: 50%;\n",
              "    cursor: pointer;\n",
              "    display: none;\n",
              "    fill: var(--fill-color);\n",
              "    height: 32px;\n",
              "    padding: 0;\n",
              "    width: 32px;\n",
              "  }\n",
              "\n",
              "  .colab-df-quickchart:hover {\n",
              "    background-color: var(--hover-bg-color);\n",
              "    box-shadow: 0 1px 2px rgba(60, 64, 67, 0.3), 0 1px 3px 1px rgba(60, 64, 67, 0.15);\n",
              "    fill: var(--button-hover-fill-color);\n",
              "  }\n",
              "\n",
              "  .colab-df-quickchart-complete:disabled,\n",
              "  .colab-df-quickchart-complete:disabled:hover {\n",
              "    background-color: var(--disabled-bg-color);\n",
              "    fill: var(--disabled-fill-color);\n",
              "    box-shadow: none;\n",
              "  }\n",
              "\n",
              "  .colab-df-spinner {\n",
              "    border: 2px solid var(--fill-color);\n",
              "    border-color: transparent;\n",
              "    border-bottom-color: var(--fill-color);\n",
              "    animation:\n",
              "      spin 1s steps(1) infinite;\n",
              "  }\n",
              "\n",
              "  @keyframes spin {\n",
              "    0% {\n",
              "      border-color: transparent;\n",
              "      border-bottom-color: var(--fill-color);\n",
              "      border-left-color: var(--fill-color);\n",
              "    }\n",
              "    20% {\n",
              "      border-color: transparent;\n",
              "      border-left-color: var(--fill-color);\n",
              "      border-top-color: var(--fill-color);\n",
              "    }\n",
              "    30% {\n",
              "      border-color: transparent;\n",
              "      border-left-color: var(--fill-color);\n",
              "      border-top-color: var(--fill-color);\n",
              "      border-right-color: var(--fill-color);\n",
              "    }\n",
              "    40% {\n",
              "      border-color: transparent;\n",
              "      border-right-color: var(--fill-color);\n",
              "      border-top-color: var(--fill-color);\n",
              "    }\n",
              "    60% {\n",
              "      border-color: transparent;\n",
              "      border-right-color: var(--fill-color);\n",
              "    }\n",
              "    80% {\n",
              "      border-color: transparent;\n",
              "      border-right-color: var(--fill-color);\n",
              "      border-bottom-color: var(--fill-color);\n",
              "    }\n",
              "    90% {\n",
              "      border-color: transparent;\n",
              "      border-bottom-color: var(--fill-color);\n",
              "    }\n",
              "  }\n",
              "</style>\n",
              "\n",
              "  <script>\n",
              "    async function quickchart(key) {\n",
              "      const quickchartButtonEl =\n",
              "        document.querySelector('#' + key + ' button');\n",
              "      quickchartButtonEl.disabled = true;  // To prevent multiple clicks.\n",
              "      quickchartButtonEl.classList.add('colab-df-spinner');\n",
              "      try {\n",
              "        const charts = await google.colab.kernel.invokeFunction(\n",
              "            'suggestCharts', [key], {});\n",
              "      } catch (error) {\n",
              "        console.error('Error during call to suggestCharts:', error);\n",
              "      }\n",
              "      quickchartButtonEl.classList.remove('colab-df-spinner');\n",
              "      quickchartButtonEl.classList.add('colab-df-quickchart-complete');\n",
              "    }\n",
              "    (() => {\n",
              "      let quickchartButtonEl =\n",
              "        document.querySelector('#df-09f32a4c-6740-403a-a010-9e81bccfffa7 button');\n",
              "      quickchartButtonEl.style.display =\n",
              "        google.colab.kernel.accessAllowed ? 'block' : 'none';\n",
              "    })();\n",
              "  </script>\n",
              "</div>\n",
              "\n",
              "    </div>\n",
              "  </div>\n"
            ],
            "application/vnd.google.colaboratory.intrinsic+json": {
              "type": "dataframe",
              "variable_name": "data",
              "summary": "{\n  \"name\": \"data\",\n  \"rows\": 398,\n  \"fields\": [\n    {\n      \"column\": \"mpg\",\n      \"properties\": {\n        \"dtype\": \"number\",\n        \"std\": 7.815984312565782,\n        \"min\": 9.0,\n        \"max\": 46.6,\n        \"num_unique_values\": 129,\n        \"samples\": [\n          17.7,\n          30.5,\n          30.0\n        ],\n        \"semantic_type\": \"\",\n        \"description\": \"\"\n      }\n    },\n    {\n      \"column\": \"cylinders\",\n      \"properties\": {\n        \"dtype\": \"number\",\n        \"std\": 1,\n        \"min\": 3,\n        \"max\": 8,\n        \"num_unique_values\": 5,\n        \"samples\": [\n          4,\n          5,\n          6\n        ],\n        \"semantic_type\": \"\",\n        \"description\": \"\"\n      }\n    },\n    {\n      \"column\": \"displacement\",\n      \"properties\": {\n        \"dtype\": \"number\",\n        \"std\": 104.26983817119591,\n        \"min\": 68.0,\n        \"max\": 455.0,\n        \"num_unique_values\": 82,\n        \"samples\": [\n          122.0,\n          307.0,\n          360.0\n        ],\n        \"semantic_type\": \"\",\n        \"description\": \"\"\n      }\n    },\n    {\n      \"column\": \"horsepower\",\n      \"properties\": {\n        \"dtype\": \"number\",\n        \"std\": 38.402030387202295,\n        \"min\": 46.0,\n        \"max\": 230.0,\n        \"num_unique_values\": 93,\n        \"samples\": [\n          92.0,\n          100.0,\n          52.0\n        ],\n        \"semantic_type\": \"\",\n        \"description\": \"\"\n      }\n    },\n    {\n      \"column\": \"weight\",\n      \"properties\": {\n        \"dtype\": \"number\",\n        \"std\": 846,\n        \"min\": 1613,\n        \"max\": 5140,\n        \"num_unique_values\": 351,\n        \"samples\": [\n          3730,\n          1995,\n          2215\n        ],\n        \"semantic_type\": \"\",\n        \"description\": \"\"\n      }\n    },\n    {\n      \"column\": \"acceleration\",\n      \"properties\": {\n        \"dtype\": \"number\",\n        \"std\": 2.757688929812676,\n        \"min\": 8.0,\n        \"max\": 24.8,\n        \"num_unique_values\": 95,\n        \"samples\": [\n          14.7,\n          18.0,\n          14.3\n        ],\n        \"semantic_type\": \"\",\n        \"description\": \"\"\n      }\n    },\n    {\n      \"column\": \"model-year\",\n      \"properties\": {\n        \"dtype\": \"number\",\n        \"std\": 3,\n        \"min\": 70,\n        \"max\": 82,\n        \"num_unique_values\": 13,\n        \"samples\": [\n          81,\n          79,\n          70\n        ],\n        \"semantic_type\": \"\",\n        \"description\": \"\"\n      }\n    }\n  ]\n}"
            }
          },
          "metadata": {},
          "execution_count": 1
        }
      ],
      "source": [
        "import pandas as pd\n",
        "data=pd.read_csv(\"/content/auto-mpg.csv\")\n",
        "data.head(4)"
      ]
    },
    {
      "cell_type": "code",
      "source": [
        "#keep missing value as is\n",
        "import pandas as pd\n",
        "data=pd.read_csv(\"/content/auto-mpg.csv\")\n",
        "print(data)\n",
        "print()"
      ],
      "metadata": {
        "colab": {
          "base_uri": "https://localhost:8080/"
        },
        "id": "UXw8_e4fOoz_",
        "outputId": "d0df44c6-952b-4d5c-b304-163ef5683623"
      },
      "execution_count": null,
      "outputs": [
        {
          "output_type": "stream",
          "name": "stdout",
          "text": [
            "      mpg  cylinders  displacement  horsepower  weight  acceleration  \\\n",
            "0    18.0        8.0         307.0       130.0  3504.0          12.0   \n",
            "1    15.0        8.0         350.0       165.0  3693.0          11.5   \n",
            "2    18.0        8.0         318.0       150.0  3436.0          11.0   \n",
            "3    16.0        8.0         304.0       150.0  3433.0          12.0   \n",
            "4    17.0        8.0         302.0       140.0  3449.0          10.5   \n",
            "..    ...        ...           ...         ...     ...           ...   \n",
            "393   NaN        4.0         140.0         NaN  2790.0          15.6   \n",
            "394   NaN        NaN          97.0         NaN  2130.0           NaN   \n",
            "395  32.0        NaN         135.0         NaN  2295.0           NaN   \n",
            "396  28.0        4.0         120.0        79.0  2625.0          18.6   \n",
            "397  31.0        4.0         119.0        82.0  2720.0          19.4   \n",
            "\n",
            "     model-year  \n",
            "0          70.0  \n",
            "1          70.0  \n",
            "2          70.0  \n",
            "3          70.0  \n",
            "4          70.0  \n",
            "..          ...  \n",
            "393        82.0  \n",
            "394        82.0  \n",
            "395        82.0  \n",
            "396        82.0  \n",
            "397        82.0  \n",
            "\n",
            "[398 rows x 7 columns]\n",
            "\n"
          ]
        }
      ]
    },
    {
      "cell_type": "code",
      "source": [
        "#Remove data object with missing value\n",
        "import pandas as pd\n",
        "df=pd.read_csv(\"/content/auto-mpg.csv\")\n",
        "df=df.dropna()\n",
        "print(df)\n",
        "print()"
      ],
      "metadata": {
        "colab": {
          "base_uri": "https://localhost:8080/"
        },
        "id": "yKLA29VwO6oY",
        "outputId": "ce5e4062-e057-4db9-b936-7ee072e447bb"
      },
      "execution_count": null,
      "outputs": [
        {
          "output_type": "stream",
          "name": "stdout",
          "text": [
            "      mpg  cylinders  displacement  horsepower  weight  acceleration  \\\n",
            "0    18.0        8.0         307.0       130.0  3504.0          12.0   \n",
            "1    15.0        8.0         350.0       165.0  3693.0          11.5   \n",
            "2    18.0        8.0         318.0       150.0  3436.0          11.0   \n",
            "3    16.0        8.0         304.0       150.0  3433.0          12.0   \n",
            "4    17.0        8.0         302.0       140.0  3449.0          10.5   \n",
            "..    ...        ...           ...         ...     ...           ...   \n",
            "390  32.0        4.0         144.0        96.0  2665.0          13.9   \n",
            "391  36.0        4.0         135.0        84.0  2370.0          13.0   \n",
            "392  27.0        4.0         151.0        90.0  2950.0          17.3   \n",
            "396  28.0        4.0         120.0        79.0  2625.0          18.6   \n",
            "397  31.0        4.0         119.0        82.0  2720.0          19.4   \n",
            "\n",
            "     model-year  \n",
            "0          70.0  \n",
            "1          70.0  \n",
            "2          70.0  \n",
            "3          70.0  \n",
            "4          70.0  \n",
            "..          ...  \n",
            "390        82.0  \n",
            "391        82.0  \n",
            "392        82.0  \n",
            "396        82.0  \n",
            "397        82.0  \n",
            "\n",
            "[370 rows x 7 columns]\n",
            "\n"
          ]
        }
      ]
    },
    {
      "cell_type": "code",
      "source": [
        "#Remove data attribute with missing value\n",
        "import pandas as pd\n",
        "df=pd.read_csv(\"/content/auto-mpg.csv\")\n",
        "df=df.dropna(axis=1)\n",
        "print(df)\n",
        "print()"
      ],
      "metadata": {
        "colab": {
          "base_uri": "https://localhost:8080/"
        },
        "id": "dgBEtxl8P7Tz",
        "outputId": "b52600e4-3cd7-4f19-eb40-bfe89009ebd2"
      },
      "execution_count": null,
      "outputs": [
        {
          "output_type": "stream",
          "name": "stdout",
          "text": [
            "Empty DataFrame\n",
            "Columns: []\n",
            "Index: [0, 1, 2, 3, 4, 5, 6, 7, 8, 9, 10, 11, 12, 13, 14, 15, 16, 17, 18, 19, 20, 21, 22, 23, 24, 25, 26, 27, 28, 29, 30, 31, 32, 33, 34, 35, 36, 37, 38, 39, 40, 41, 42, 43, 44, 45, 46, 47, 48, 49, 50, 51, 52, 53, 54, 55, 56, 57, 58, 59, 60, 61, 62, 63, 64, 65, 66, 67, 68, 69, 70, 71, 72, 73, 74, 75, 76, 77, 78, 79, 80, 81, 82, 83, 84, 85, 86, 87, 88, 89, 90, 91, 92, 93, 94, 95, 96, 97, 98, 99, ...]\n",
            "\n",
            "[398 rows x 0 columns]\n",
            "\n"
          ]
        }
      ]
    },
    {
      "cell_type": "code",
      "source": [
        "#Estimate and impute missing value\n",
        "import pandas as pd\n",
        "df=pd.read_csv(\"/content/auto-mpg.csv\")\n",
        "df=df.fillna(df.mean())\n",
        "print(df)\n",
        "print()"
      ],
      "metadata": {
        "colab": {
          "base_uri": "https://localhost:8080/"
        },
        "id": "NU4b4Qw5QPhy",
        "outputId": "a3236824-4ab7-46d1-ef3b-a5a2591ef687"
      },
      "execution_count": null,
      "outputs": [
        {
          "output_type": "stream",
          "name": "stdout",
          "text": [
            "           mpg  cylinders  displacement  horsepower  weight  acceleration  \\\n",
            "0    18.000000   8.000000         307.0  130.000000  3504.0     12.000000   \n",
            "1    15.000000   8.000000         350.0  165.000000  3693.0     11.500000   \n",
            "2    18.000000   8.000000         318.0  150.000000  3436.0     11.000000   \n",
            "3    16.000000   8.000000         304.0  150.000000  3433.0     12.000000   \n",
            "4    17.000000   8.000000         302.0  140.000000  3449.0     10.500000   \n",
            "..         ...        ...           ...         ...     ...           ...   \n",
            "393  23.476289   4.000000         140.0  104.535897  2790.0     15.600000   \n",
            "394  23.476289   5.470588          97.0  104.535897  2130.0     15.546684   \n",
            "395  32.000000   5.470588         135.0  104.535897  2295.0     15.546684   \n",
            "396  28.000000   4.000000         120.0   79.000000  2625.0     18.600000   \n",
            "397  31.000000   4.000000         119.0   82.000000  2720.0     19.400000   \n",
            "\n",
            "     model-year  \n",
            "0          70.0  \n",
            "1          70.0  \n",
            "2          70.0  \n",
            "3          70.0  \n",
            "4          70.0  \n",
            "..          ...  \n",
            "393        82.0  \n",
            "394        82.0  \n",
            "395        82.0  \n",
            "396        82.0  \n",
            "397        82.0  \n",
            "\n",
            "[398 rows x 7 columns]\n",
            "\n"
          ]
        }
      ]
    },
    {
      "cell_type": "code",
      "source": [
        "#Interpolation\n",
        "import pandas as pd\n",
        "df=pd.read_csv(\"/content/auto-mpg.csv\")\n",
        "df=df.interpolate(method='linear')\n",
        "print(df)\n",
        "print()"
      ],
      "metadata": {
        "colab": {
          "base_uri": "https://localhost:8080/"
        },
        "id": "SZvGLfk6QPjl",
        "outputId": "28b43038-a3fd-4363-d469-1454611bd4d6"
      },
      "execution_count": null,
      "outputs": [
        {
          "output_type": "stream",
          "name": "stdout",
          "text": [
            "           mpg  cylinders  displacement  horsepower  weight  acceleration  \\\n",
            "0    18.000000        8.0         307.0      130.00  3504.0          12.0   \n",
            "1    15.000000        8.0         350.0      165.00  3693.0          11.5   \n",
            "2    18.000000        8.0         318.0      150.00  3436.0          11.0   \n",
            "3    16.000000        8.0         304.0      150.00  3433.0          12.0   \n",
            "4    17.000000        8.0         302.0      140.00  3449.0          10.5   \n",
            "..         ...        ...           ...         ...     ...           ...   \n",
            "393  28.666667        4.0         140.0       87.25  2790.0          15.6   \n",
            "394  30.333333        4.0          97.0       84.50  2130.0          16.6   \n",
            "395  32.000000        4.0         135.0       81.75  2295.0          17.6   \n",
            "396  28.000000        4.0         120.0       79.00  2625.0          18.6   \n",
            "397  31.000000        4.0         119.0       82.00  2720.0          19.4   \n",
            "\n",
            "     model-year  \n",
            "0          70.0  \n",
            "1          70.0  \n",
            "2          70.0  \n",
            "3          70.0  \n",
            "4          70.0  \n",
            "..          ...  \n",
            "393        82.0  \n",
            "394        82.0  \n",
            "395        82.0  \n",
            "396        82.0  \n",
            "397        82.0  \n",
            "\n",
            "[398 rows x 7 columns]\n",
            "\n"
          ]
        }
      ]
    },
    {
      "cell_type": "code",
      "source": [
        "#Log transformation\n",
        "import pandas as pd\n",
        "import numpy as np\n",
        "df=pd.read_csv(\"/content/auto-mpg.csv\")\n",
        "df['Log_transformation']=np.log(df['cylinders'])\n",
        "print(df)"
      ],
      "metadata": {
        "colab": {
          "base_uri": "https://localhost:8080/"
        },
        "id": "spTULKsrRFAZ",
        "outputId": "0545a73b-7b2b-4816-c901-ccbaae0e50cf"
      },
      "execution_count": null,
      "outputs": [
        {
          "output_type": "stream",
          "name": "stdout",
          "text": [
            "      mpg  cylinders  displacement  horsepower  weight  acceleration  \\\n",
            "0    18.0        8.0         307.0       130.0  3504.0          12.0   \n",
            "1    15.0        8.0         350.0       165.0  3693.0          11.5   \n",
            "2    18.0        8.0         318.0       150.0  3436.0          11.0   \n",
            "3    16.0        8.0         304.0       150.0  3433.0          12.0   \n",
            "4    17.0        8.0         302.0       140.0  3449.0          10.5   \n",
            "..    ...        ...           ...         ...     ...           ...   \n",
            "393   NaN        4.0         140.0         NaN  2790.0          15.6   \n",
            "394   NaN        NaN          97.0         NaN  2130.0           NaN   \n",
            "395  32.0        NaN         135.0         NaN  2295.0           NaN   \n",
            "396  28.0        4.0         120.0        79.0  2625.0          18.6   \n",
            "397  31.0        4.0         119.0        82.0  2720.0          19.4   \n",
            "\n",
            "     model-year  Log_transformation  \n",
            "0          70.0            2.079442  \n",
            "1          70.0            2.079442  \n",
            "2          70.0            2.079442  \n",
            "3          70.0            2.079442  \n",
            "4          70.0            2.079442  \n",
            "..          ...                 ...  \n",
            "393        82.0            1.386294  \n",
            "394        82.0                 NaN  \n",
            "395        82.0                 NaN  \n",
            "396        82.0            1.386294  \n",
            "397        82.0            1.386294  \n",
            "\n",
            "[398 rows x 8 columns]\n"
          ]
        }
      ]
    },
    {
      "cell_type": "code",
      "source": [
        "#Upper cap\n",
        "import pandas as pd\n",
        "import numpy as np\n",
        "df=pd.read_csv(\"/content/auto-mpg.csv\")\n",
        "upper_cap=67\n",
        "df_cliped=df.clip(upper=upper_cap)\n",
        "print(df_cliped)"
      ],
      "metadata": {
        "colab": {
          "base_uri": "https://localhost:8080/"
        },
        "id": "3CarCSbARm_B",
        "outputId": "efc70a72-5fd5-4dbc-eba0-8fbc9227aa28"
      },
      "execution_count": null,
      "outputs": [
        {
          "output_type": "stream",
          "name": "stdout",
          "text": [
            "      mpg  cylinders  displacement  horsepower  weight  acceleration  \\\n",
            "0    18.0        8.0          67.0        67.0    67.0          12.0   \n",
            "1    15.0        8.0          67.0        67.0    67.0          11.5   \n",
            "2    18.0        8.0          67.0        67.0    67.0          11.0   \n",
            "3    16.0        8.0          67.0        67.0    67.0          12.0   \n",
            "4    17.0        8.0          67.0        67.0    67.0          10.5   \n",
            "..    ...        ...           ...         ...     ...           ...   \n",
            "393   NaN        4.0          67.0         NaN    67.0          15.6   \n",
            "394   NaN        NaN          67.0         NaN    67.0           NaN   \n",
            "395  32.0        NaN          67.0         NaN    67.0           NaN   \n",
            "396  28.0        4.0          67.0        67.0    67.0          18.6   \n",
            "397  31.0        4.0          67.0        67.0    67.0          19.4   \n",
            "\n",
            "     model-year  \n",
            "0          67.0  \n",
            "1          67.0  \n",
            "2          67.0  \n",
            "3          67.0  \n",
            "4          67.0  \n",
            "..          ...  \n",
            "393        67.0  \n",
            "394        67.0  \n",
            "395        67.0  \n",
            "396        67.0  \n",
            "397        67.0  \n",
            "\n",
            "[398 rows x 7 columns]\n"
          ]
        }
      ]
    },
    {
      "cell_type": "code",
      "source": [
        "#Lower cap\n",
        "import pandas as pd\n",
        "df=pd.read_csv(\"/content/auto-mpg.csv\")\n",
        "lower_cap=10\n",
        "df_cliped=df.clip(lower=lower_cap)\n",
        "print(df_cliped)"
      ],
      "metadata": {
        "colab": {
          "base_uri": "https://localhost:8080/"
        },
        "id": "6zYdONS9SMHn",
        "outputId": "4013d05b-7249-4bb0-d762-5bf939baf5e3"
      },
      "execution_count": null,
      "outputs": [
        {
          "output_type": "stream",
          "name": "stdout",
          "text": [
            "      mpg  cylinders  displacement  horsepower  weight  acceleration  \\\n",
            "0    18.0       10.0         307.0       130.0  3504.0          12.0   \n",
            "1    15.0       10.0         350.0       165.0  3693.0          11.5   \n",
            "2    18.0       10.0         318.0       150.0  3436.0          11.0   \n",
            "3    16.0       10.0         304.0       150.0  3433.0          12.0   \n",
            "4    17.0       10.0         302.0       140.0  3449.0          10.5   \n",
            "..    ...        ...           ...         ...     ...           ...   \n",
            "393   NaN       10.0         140.0         NaN  2790.0          15.6   \n",
            "394   NaN        NaN          97.0         NaN  2130.0           NaN   \n",
            "395  32.0        NaN         135.0         NaN  2295.0           NaN   \n",
            "396  28.0       10.0         120.0        79.0  2625.0          18.6   \n",
            "397  31.0       10.0         119.0        82.0  2720.0          19.4   \n",
            "\n",
            "     model-year  \n",
            "0          70.0  \n",
            "1          70.0  \n",
            "2          70.0  \n",
            "3          70.0  \n",
            "4          70.0  \n",
            "..          ...  \n",
            "393        82.0  \n",
            "394        82.0  \n",
            "395        82.0  \n",
            "396        82.0  \n",
            "397        82.0  \n",
            "\n",
            "[398 rows x 7 columns]\n"
          ]
        }
      ]
    },
    {
      "cell_type": "code",
      "source": [
        "#remove data object with outlier\n",
        "import pandas as pd\n",
        "df=pd.read_csv(\"/content/auto-mpg.csv\")\n",
        "outlier=5\n",
        "print(outlier)\n",
        "print(df)"
      ],
      "metadata": {
        "colab": {
          "base_uri": "https://localhost:8080/"
        },
        "id": "WW293w3ESqnr",
        "outputId": "db94ac5d-dfdb-45aa-f1bf-250443263f71"
      },
      "execution_count": null,
      "outputs": [
        {
          "output_type": "stream",
          "name": "stdout",
          "text": [
            "5\n",
            "      mpg  cylinders  displacement  horsepower  weight  acceleration  \\\n",
            "0    18.0        8.0         307.0       130.0  3504.0          12.0   \n",
            "1    15.0        8.0         350.0       165.0  3693.0          11.5   \n",
            "2    18.0        8.0         318.0       150.0  3436.0          11.0   \n",
            "3    16.0        8.0         304.0       150.0  3433.0          12.0   \n",
            "4    17.0        8.0         302.0       140.0  3449.0          10.5   \n",
            "..    ...        ...           ...         ...     ...           ...   \n",
            "393   NaN        4.0         140.0         NaN  2790.0          15.6   \n",
            "394   NaN        NaN          97.0         NaN  2130.0           NaN   \n",
            "395  32.0        NaN         135.0         NaN  2295.0           NaN   \n",
            "396  28.0        4.0         120.0        79.0  2625.0          18.6   \n",
            "397  31.0        4.0         119.0        82.0  2720.0          19.4   \n",
            "\n",
            "     model-year  \n",
            "0          70.0  \n",
            "1          70.0  \n",
            "2          70.0  \n",
            "3          70.0  \n",
            "4          70.0  \n",
            "..          ...  \n",
            "393        82.0  \n",
            "394        82.0  \n",
            "395        82.0  \n",
            "396        82.0  \n",
            "397        82.0  \n",
            "\n",
            "[398 rows x 7 columns]\n"
          ]
        }
      ]
    },
    {
      "cell_type": "code",
      "source": [
        "#Do nothing\n",
        "import pandas as pd\n",
        "df=pd.read_csv(\"/content/auto-mpg.csv\")\n",
        "print(df)"
      ],
      "metadata": {
        "colab": {
          "base_uri": "https://localhost:8080/"
        },
        "id": "DooJAG86TKvn",
        "outputId": "adda3b2e-ddce-47cd-ed07-428431a05535"
      },
      "execution_count": null,
      "outputs": [
        {
          "output_type": "stream",
          "name": "stdout",
          "text": [
            "      mpg  cylinders  displacement  horsepower  weight  acceleration  \\\n",
            "0    18.0        8.0         307.0       130.0  3504.0          12.0   \n",
            "1    15.0        8.0         350.0       165.0  3693.0          11.5   \n",
            "2    18.0        8.0         318.0       150.0  3436.0          11.0   \n",
            "3    16.0        8.0         304.0       150.0  3433.0          12.0   \n",
            "4    17.0        8.0         302.0       140.0  3449.0          10.5   \n",
            "..    ...        ...           ...         ...     ...           ...   \n",
            "393   NaN        4.0         140.0         NaN  2790.0          15.6   \n",
            "394   NaN        NaN          97.0         NaN  2130.0           NaN   \n",
            "395  32.0        NaN         135.0         NaN  2295.0           NaN   \n",
            "396  28.0        4.0         120.0        79.0  2625.0          18.6   \n",
            "397  31.0        4.0         119.0        82.0  2720.0          19.4   \n",
            "\n",
            "     model-year  \n",
            "0          70.0  \n",
            "1          70.0  \n",
            "2          70.0  \n",
            "3          70.0  \n",
            "4          70.0  \n",
            "..          ...  \n",
            "393        82.0  \n",
            "394        82.0  \n",
            "395        82.0  \n",
            "396        82.0  \n",
            "397        82.0  \n",
            "\n",
            "[398 rows x 7 columns]\n"
          ]
        }
      ]
    },
    {
      "cell_type": "code",
      "source": [
        "#Adding attribute\n",
        "import pandas as pd\n",
        "import numpy as np\n",
        "df=pd.read_csv(\"/content/auto-mpg.csv\")\n",
        "df['mpg']=np.random.randint(10,100,size=len(df))\n",
        "print(df)"
      ],
      "metadata": {
        "colab": {
          "base_uri": "https://localhost:8080/"
        },
        "id": "YgicXNJJTe-w",
        "outputId": "c626abd2-58c4-4ab4-9a20-587c7984a426"
      },
      "execution_count": null,
      "outputs": [
        {
          "output_type": "stream",
          "name": "stdout",
          "text": [
            "     mpg  cylinders  displacement  horsepower  weight  acceleration  \\\n",
            "0     76        8.0         307.0       130.0  3504.0          12.0   \n",
            "1     38        8.0         350.0       165.0  3693.0          11.5   \n",
            "2     15        8.0         318.0       150.0  3436.0          11.0   \n",
            "3     41        8.0         304.0       150.0  3433.0          12.0   \n",
            "4     74        8.0         302.0       140.0  3449.0          10.5   \n",
            "..   ...        ...           ...         ...     ...           ...   \n",
            "393   72        4.0         140.0         NaN  2790.0          15.6   \n",
            "394   17        NaN          97.0         NaN  2130.0           NaN   \n",
            "395   76        NaN         135.0         NaN  2295.0           NaN   \n",
            "396   38        4.0         120.0        79.0  2625.0          18.6   \n",
            "397   76        4.0         119.0        82.0  2720.0          19.4   \n",
            "\n",
            "     model-year  \n",
            "0          70.0  \n",
            "1          70.0  \n",
            "2          70.0  \n",
            "3          70.0  \n",
            "4          70.0  \n",
            "..          ...  \n",
            "393        82.0  \n",
            "394        82.0  \n",
            "395        82.0  \n",
            "396        82.0  \n",
            "397        82.0  \n",
            "\n",
            "[398 rows x 7 columns]\n"
          ]
        }
      ]
    },
    {
      "cell_type": "code",
      "source": [
        "#Data reduction\n",
        "import pandas as pd\n",
        "df=pd.read_csv(\"/content/auto-mpg.csv\")\n",
        "df=df.drop(['mpg','cylinders'],axis=1)\n",
        "df=df.drop_duplicates()\n",
        "print(df)"
      ],
      "metadata": {
        "colab": {
          "base_uri": "https://localhost:8080/"
        },
        "id": "4cwGsqbsW7Dh",
        "outputId": "f7bb4431-1df8-46d2-8af7-b5081eefe3ee"
      },
      "execution_count": null,
      "outputs": [
        {
          "output_type": "stream",
          "name": "stdout",
          "text": [
            "     displacement  horsepower  weight  acceleration  model-year\n",
            "0           307.0       130.0  3504.0          12.0        70.0\n",
            "1           350.0       165.0  3693.0          11.5        70.0\n",
            "2           318.0       150.0  3436.0          11.0        70.0\n",
            "3           304.0       150.0  3433.0          12.0        70.0\n",
            "4           302.0       140.0  3449.0          10.5        70.0\n",
            "..            ...         ...     ...           ...         ...\n",
            "393         140.0         NaN  2790.0          15.6        82.0\n",
            "394          97.0         NaN  2130.0           NaN        82.0\n",
            "395         135.0         NaN  2295.0           NaN        82.0\n",
            "396         120.0        79.0  2625.0          18.6        82.0\n",
            "397         119.0        82.0  2720.0          19.4        82.0\n",
            "\n",
            "[398 rows x 5 columns]\n"
          ]
        }
      ]
    },
    {
      "cell_type": "code",
      "source": [
        "#Data redundancy\n",
        "import pandas as pd\n",
        "df=pd.read_csv(\"/content/auto-mpg.csv\")\n",
        "df=df.drop_duplicates()\n",
        "df=df.drop_duplicates(subset=['mpg'])\n",
        "print(df)"
      ],
      "metadata": {
        "colab": {
          "base_uri": "https://localhost:8080/"
        },
        "id": "XzsCO7YtXgTZ",
        "outputId": "8939b7d4-71e9-4126-a5e8-a194e3c7ee78"
      },
      "execution_count": null,
      "outputs": [
        {
          "output_type": "stream",
          "name": "stdout",
          "text": [
            "      mpg  cylinders  displacement  horsepower  weight  acceleration  \\\n",
            "0    18.0        8.0         307.0       130.0  3504.0          12.0   \n",
            "1    15.0        8.0         350.0       165.0  3693.0          11.5   \n",
            "3    16.0        8.0         304.0       150.0  3433.0          12.0   \n",
            "4    17.0        8.0         302.0       140.0  3449.0          10.5   \n",
            "6    14.0        8.0         454.0       220.0  4354.0           9.0   \n",
            "..    ...        ...           ...         ...     ...           ...   \n",
            "362  24.2        6.0         146.0       120.0  2930.0          13.8   \n",
            "363  22.4        6.0         231.0       110.0  3415.0          15.8   \n",
            "364  26.6        8.0         350.0       105.0  3725.0          19.0   \n",
            "369  34.0        4.0         112.0        88.0  2395.0          18.0   \n",
            "378  38.0        4.0         105.0        63.0  2125.0          14.7   \n",
            "\n",
            "     model-year  \n",
            "0          70.0  \n",
            "1          70.0  \n",
            "3          70.0  \n",
            "4          70.0  \n",
            "6          70.0  \n",
            "..          ...  \n",
            "362        81.0  \n",
            "363        81.0  \n",
            "364        81.0  \n",
            "369        82.0  \n",
            "378        82.0  \n",
            "\n",
            "[128 rows x 7 columns]\n"
          ]
        }
      ]
    },
    {
      "cell_type": "code",
      "source": [
        "#Standardization\n",
        "import pandas as pd\n",
        "from sklearn.preprocessing import StandardScaler\n",
        "df=pd.read_csv(\"/content/auto-mpg.csv\")\n",
        "feature_cols=[\"mpg\",\"weight\",\"cylinders\"]\n",
        "scaler=StandardScaler()\n",
        "df[feature_cols]=scaler.fit_transform(df[feature_cols])\n",
        "print(df)"
      ],
      "metadata": {
        "colab": {
          "base_uri": "https://localhost:8080/"
        },
        "id": "k1Sxp-uPxHJW",
        "outputId": "ee9e6918-eb16-42d5-93eb-4dc706a7ec0a"
      },
      "execution_count": null,
      "outputs": [
        {
          "output_type": "stream",
          "name": "stdout",
          "text": [
            "          mpg  cylinders  displacement  horsepower    weight  acceleration  \\\n",
            "0   -0.704281   1.483027         307.0       130.0  0.618083          12.0   \n",
            "1   -1.090098   1.483027         350.0       165.0  0.840852          11.5   \n",
            "2   -0.704281   1.483027         318.0       150.0  0.537933          11.0   \n",
            "3   -0.961492   1.483027         304.0       150.0  0.534397          12.0   \n",
            "4   -0.832887   1.483027         302.0       140.0  0.553256          10.5   \n",
            "..        ...        ...           ...         ...       ...           ...   \n",
            "393       NaN  -0.862225         140.0         NaN -0.223490          15.6   \n",
            "394       NaN        NaN          97.0         NaN -1.001414           NaN   \n",
            "395  1.096197        NaN         135.0         NaN -0.806933           NaN   \n",
            "396  0.581775  -0.862225         120.0        79.0 -0.417971          18.6   \n",
            "397  0.967591  -0.862225         119.0        82.0 -0.305997          19.4   \n",
            "\n",
            "     model-year  \n",
            "0          70.0  \n",
            "1          70.0  \n",
            "2          70.0  \n",
            "3          70.0  \n",
            "4          70.0  \n",
            "..          ...  \n",
            "393        82.0  \n",
            "394        82.0  \n",
            "395        82.0  \n",
            "396        82.0  \n",
            "397        82.0  \n",
            "\n",
            "[398 rows x 7 columns]\n"
          ]
        }
      ]
    },
    {
      "cell_type": "code",
      "source": [
        "#binary coding\n",
        "import pandas as pd\n",
        "df=pd.read_csv(\"/content/auto-mpg.csv\")\n",
        "def text_to_binary(text):\n",
        "  if pd.isna(text):\n",
        "    return ''\n",
        "  return ''.join(format(ord(char),'08b') for char in text)\n",
        "df['binary_code']=df['cylinders'].apply(text_to_binary)\n",
        "print(df)"
      ],
      "metadata": {
        "colab": {
          "base_uri": "https://localhost:8080/",
          "height": 390
        },
        "id": "D0GadEc3X7rI",
        "outputId": "8ef78531-82fa-49ef-c796-6bf7f438ec7d"
      },
      "execution_count": null,
      "outputs": [
        {
          "output_type": "error",
          "ename": "TypeError",
          "evalue": "'float' object is not iterable",
          "traceback": [
            "\u001b[0;31m---------------------------------------------------------------------------\u001b[0m",
            "\u001b[0;31mTypeError\u001b[0m                                 Traceback (most recent call last)",
            "\u001b[0;32m<ipython-input-50-a90c368c6b4a>\u001b[0m in \u001b[0;36m<cell line: 9>\u001b[0;34m()\u001b[0m\n\u001b[1;32m      7\u001b[0m     \u001b[0;32mreturn\u001b[0m \u001b[0;34m''\u001b[0m\u001b[0;34m\u001b[0m\u001b[0;34m\u001b[0m\u001b[0m\n\u001b[1;32m      8\u001b[0m   \u001b[0;32mreturn\u001b[0m \u001b[0;34m''\u001b[0m\u001b[0;34m.\u001b[0m\u001b[0mjoin\u001b[0m\u001b[0;34m(\u001b[0m\u001b[0mformat\u001b[0m\u001b[0;34m(\u001b[0m\u001b[0mord\u001b[0m\u001b[0;34m(\u001b[0m\u001b[0mchar\u001b[0m\u001b[0;34m)\u001b[0m\u001b[0;34m,\u001b[0m\u001b[0;34m'08b'\u001b[0m\u001b[0;34m)\u001b[0m \u001b[0;32mfor\u001b[0m \u001b[0mchar\u001b[0m \u001b[0;32min\u001b[0m \u001b[0mtext\u001b[0m\u001b[0;34m)\u001b[0m\u001b[0;34m\u001b[0m\u001b[0;34m\u001b[0m\u001b[0m\n\u001b[0;32m----> 9\u001b[0;31m \u001b[0mdf\u001b[0m\u001b[0;34m[\u001b[0m\u001b[0;34m'binary_code'\u001b[0m\u001b[0;34m]\u001b[0m\u001b[0;34m=\u001b[0m\u001b[0mdf\u001b[0m\u001b[0;34m[\u001b[0m\u001b[0;34m'cylinders'\u001b[0m\u001b[0;34m]\u001b[0m\u001b[0;34m.\u001b[0m\u001b[0mapply\u001b[0m\u001b[0;34m(\u001b[0m\u001b[0mtext_to_binary\u001b[0m\u001b[0;34m)\u001b[0m\u001b[0;34m\u001b[0m\u001b[0;34m\u001b[0m\u001b[0m\n\u001b[0m\u001b[1;32m     10\u001b[0m \u001b[0mprint\u001b[0m\u001b[0;34m(\u001b[0m\u001b[0mdf\u001b[0m\u001b[0;34m)\u001b[0m\u001b[0;34m\u001b[0m\u001b[0;34m\u001b[0m\u001b[0m\n",
            "\u001b[0;32m/usr/local/lib/python3.10/dist-packages/pandas/core/series.py\u001b[0m in \u001b[0;36mapply\u001b[0;34m(self, func, convert_dtype, args, by_row, **kwargs)\u001b[0m\n\u001b[1;32m   4762\u001b[0m             \u001b[0margs\u001b[0m\u001b[0;34m=\u001b[0m\u001b[0margs\u001b[0m\u001b[0;34m,\u001b[0m\u001b[0;34m\u001b[0m\u001b[0;34m\u001b[0m\u001b[0m\n\u001b[1;32m   4763\u001b[0m             \u001b[0mkwargs\u001b[0m\u001b[0;34m=\u001b[0m\u001b[0mkwargs\u001b[0m\u001b[0;34m,\u001b[0m\u001b[0;34m\u001b[0m\u001b[0;34m\u001b[0m\u001b[0m\n\u001b[0;32m-> 4764\u001b[0;31m         ).apply()\n\u001b[0m\u001b[1;32m   4765\u001b[0m \u001b[0;34m\u001b[0m\u001b[0m\n\u001b[1;32m   4766\u001b[0m     def _reindex_indexer(\n",
            "\u001b[0;32m/usr/local/lib/python3.10/dist-packages/pandas/core/apply.py\u001b[0m in \u001b[0;36mapply\u001b[0;34m(self)\u001b[0m\n\u001b[1;32m   1207\u001b[0m \u001b[0;34m\u001b[0m\u001b[0m\n\u001b[1;32m   1208\u001b[0m         \u001b[0;31m# self.func is Callable\u001b[0m\u001b[0;34m\u001b[0m\u001b[0;34m\u001b[0m\u001b[0m\n\u001b[0;32m-> 1209\u001b[0;31m         \u001b[0;32mreturn\u001b[0m \u001b[0mself\u001b[0m\u001b[0;34m.\u001b[0m\u001b[0mapply_standard\u001b[0m\u001b[0;34m(\u001b[0m\u001b[0;34m)\u001b[0m\u001b[0;34m\u001b[0m\u001b[0;34m\u001b[0m\u001b[0m\n\u001b[0m\u001b[1;32m   1210\u001b[0m \u001b[0;34m\u001b[0m\u001b[0m\n\u001b[1;32m   1211\u001b[0m     \u001b[0;32mdef\u001b[0m \u001b[0magg\u001b[0m\u001b[0;34m(\u001b[0m\u001b[0mself\u001b[0m\u001b[0;34m)\u001b[0m\u001b[0;34m:\u001b[0m\u001b[0;34m\u001b[0m\u001b[0;34m\u001b[0m\u001b[0m\n",
            "\u001b[0;32m/usr/local/lib/python3.10/dist-packages/pandas/core/apply.py\u001b[0m in \u001b[0;36mapply_standard\u001b[0;34m(self)\u001b[0m\n\u001b[1;32m   1287\u001b[0m         \u001b[0;31m#  Categorical (GH51645).\u001b[0m\u001b[0;34m\u001b[0m\u001b[0;34m\u001b[0m\u001b[0m\n\u001b[1;32m   1288\u001b[0m         \u001b[0maction\u001b[0m \u001b[0;34m=\u001b[0m \u001b[0;34m\"ignore\"\u001b[0m \u001b[0;32mif\u001b[0m \u001b[0misinstance\u001b[0m\u001b[0;34m(\u001b[0m\u001b[0mobj\u001b[0m\u001b[0;34m.\u001b[0m\u001b[0mdtype\u001b[0m\u001b[0;34m,\u001b[0m \u001b[0mCategoricalDtype\u001b[0m\u001b[0;34m)\u001b[0m \u001b[0;32melse\u001b[0m \u001b[0;32mNone\u001b[0m\u001b[0;34m\u001b[0m\u001b[0;34m\u001b[0m\u001b[0m\n\u001b[0;32m-> 1289\u001b[0;31m         mapped = obj._map_values(\n\u001b[0m\u001b[1;32m   1290\u001b[0m             \u001b[0mmapper\u001b[0m\u001b[0;34m=\u001b[0m\u001b[0mcurried\u001b[0m\u001b[0;34m,\u001b[0m \u001b[0mna_action\u001b[0m\u001b[0;34m=\u001b[0m\u001b[0maction\u001b[0m\u001b[0;34m,\u001b[0m \u001b[0mconvert\u001b[0m\u001b[0;34m=\u001b[0m\u001b[0mself\u001b[0m\u001b[0;34m.\u001b[0m\u001b[0mconvert_dtype\u001b[0m\u001b[0;34m\u001b[0m\u001b[0;34m\u001b[0m\u001b[0m\n\u001b[1;32m   1291\u001b[0m         )\n",
            "\u001b[0;32m/usr/local/lib/python3.10/dist-packages/pandas/core/base.py\u001b[0m in \u001b[0;36m_map_values\u001b[0;34m(self, mapper, na_action, convert)\u001b[0m\n\u001b[1;32m    919\u001b[0m             \u001b[0;32mreturn\u001b[0m \u001b[0marr\u001b[0m\u001b[0;34m.\u001b[0m\u001b[0mmap\u001b[0m\u001b[0;34m(\u001b[0m\u001b[0mmapper\u001b[0m\u001b[0;34m,\u001b[0m \u001b[0mna_action\u001b[0m\u001b[0;34m=\u001b[0m\u001b[0mna_action\u001b[0m\u001b[0;34m)\u001b[0m\u001b[0;34m\u001b[0m\u001b[0;34m\u001b[0m\u001b[0m\n\u001b[1;32m    920\u001b[0m \u001b[0;34m\u001b[0m\u001b[0m\n\u001b[0;32m--> 921\u001b[0;31m         \u001b[0;32mreturn\u001b[0m \u001b[0malgorithms\u001b[0m\u001b[0;34m.\u001b[0m\u001b[0mmap_array\u001b[0m\u001b[0;34m(\u001b[0m\u001b[0marr\u001b[0m\u001b[0;34m,\u001b[0m \u001b[0mmapper\u001b[0m\u001b[0;34m,\u001b[0m \u001b[0mna_action\u001b[0m\u001b[0;34m=\u001b[0m\u001b[0mna_action\u001b[0m\u001b[0;34m,\u001b[0m \u001b[0mconvert\u001b[0m\u001b[0;34m=\u001b[0m\u001b[0mconvert\u001b[0m\u001b[0;34m)\u001b[0m\u001b[0;34m\u001b[0m\u001b[0;34m\u001b[0m\u001b[0m\n\u001b[0m\u001b[1;32m    922\u001b[0m \u001b[0;34m\u001b[0m\u001b[0m\n\u001b[1;32m    923\u001b[0m     \u001b[0;34m@\u001b[0m\u001b[0mfinal\u001b[0m\u001b[0;34m\u001b[0m\u001b[0;34m\u001b[0m\u001b[0m\n",
            "\u001b[0;32m/usr/local/lib/python3.10/dist-packages/pandas/core/algorithms.py\u001b[0m in \u001b[0;36mmap_array\u001b[0;34m(arr, mapper, na_action, convert)\u001b[0m\n\u001b[1;32m   1812\u001b[0m     \u001b[0mvalues\u001b[0m \u001b[0;34m=\u001b[0m \u001b[0marr\u001b[0m\u001b[0;34m.\u001b[0m\u001b[0mastype\u001b[0m\u001b[0;34m(\u001b[0m\u001b[0mobject\u001b[0m\u001b[0;34m,\u001b[0m \u001b[0mcopy\u001b[0m\u001b[0;34m=\u001b[0m\u001b[0;32mFalse\u001b[0m\u001b[0;34m)\u001b[0m\u001b[0;34m\u001b[0m\u001b[0;34m\u001b[0m\u001b[0m\n\u001b[1;32m   1813\u001b[0m     \u001b[0;32mif\u001b[0m \u001b[0mna_action\u001b[0m \u001b[0;32mis\u001b[0m \u001b[0;32mNone\u001b[0m\u001b[0;34m:\u001b[0m\u001b[0;34m\u001b[0m\u001b[0;34m\u001b[0m\u001b[0m\n\u001b[0;32m-> 1814\u001b[0;31m         \u001b[0;32mreturn\u001b[0m \u001b[0mlib\u001b[0m\u001b[0;34m.\u001b[0m\u001b[0mmap_infer\u001b[0m\u001b[0;34m(\u001b[0m\u001b[0mvalues\u001b[0m\u001b[0;34m,\u001b[0m \u001b[0mmapper\u001b[0m\u001b[0;34m,\u001b[0m \u001b[0mconvert\u001b[0m\u001b[0;34m=\u001b[0m\u001b[0mconvert\u001b[0m\u001b[0;34m)\u001b[0m\u001b[0;34m\u001b[0m\u001b[0;34m\u001b[0m\u001b[0m\n\u001b[0m\u001b[1;32m   1815\u001b[0m     \u001b[0;32melse\u001b[0m\u001b[0;34m:\u001b[0m\u001b[0;34m\u001b[0m\u001b[0;34m\u001b[0m\u001b[0m\n\u001b[1;32m   1816\u001b[0m         return lib.map_infer_mask(\n",
            "\u001b[0;32mlib.pyx\u001b[0m in \u001b[0;36mpandas._libs.lib.map_infer\u001b[0;34m()\u001b[0m\n",
            "\u001b[0;32m<ipython-input-50-a90c368c6b4a>\u001b[0m in \u001b[0;36mtext_to_binary\u001b[0;34m(text)\u001b[0m\n\u001b[1;32m      6\u001b[0m   \u001b[0;32mif\u001b[0m \u001b[0mpd\u001b[0m\u001b[0;34m.\u001b[0m\u001b[0misna\u001b[0m\u001b[0;34m(\u001b[0m\u001b[0mtext\u001b[0m\u001b[0;34m)\u001b[0m\u001b[0;34m:\u001b[0m\u001b[0;34m\u001b[0m\u001b[0;34m\u001b[0m\u001b[0m\n\u001b[1;32m      7\u001b[0m     \u001b[0;32mreturn\u001b[0m \u001b[0;34m''\u001b[0m\u001b[0;34m\u001b[0m\u001b[0;34m\u001b[0m\u001b[0m\n\u001b[0;32m----> 8\u001b[0;31m   \u001b[0;32mreturn\u001b[0m \u001b[0;34m''\u001b[0m\u001b[0;34m.\u001b[0m\u001b[0mjoin\u001b[0m\u001b[0;34m(\u001b[0m\u001b[0mformat\u001b[0m\u001b[0;34m(\u001b[0m\u001b[0mord\u001b[0m\u001b[0;34m(\u001b[0m\u001b[0mchar\u001b[0m\u001b[0;34m)\u001b[0m\u001b[0;34m,\u001b[0m\u001b[0;34m'08b'\u001b[0m\u001b[0;34m)\u001b[0m \u001b[0;32mfor\u001b[0m \u001b[0mchar\u001b[0m \u001b[0;32min\u001b[0m \u001b[0mtext\u001b[0m\u001b[0;34m)\u001b[0m\u001b[0;34m\u001b[0m\u001b[0;34m\u001b[0m\u001b[0m\n\u001b[0m\u001b[1;32m      9\u001b[0m \u001b[0mdf\u001b[0m\u001b[0;34m[\u001b[0m\u001b[0;34m'binary_code'\u001b[0m\u001b[0;34m]\u001b[0m\u001b[0;34m=\u001b[0m\u001b[0mdf\u001b[0m\u001b[0;34m[\u001b[0m\u001b[0;34m'cylinders'\u001b[0m\u001b[0;34m]\u001b[0m\u001b[0;34m.\u001b[0m\u001b[0mapply\u001b[0m\u001b[0;34m(\u001b[0m\u001b[0mtext_to_binary\u001b[0m\u001b[0;34m)\u001b[0m\u001b[0;34m\u001b[0m\u001b[0;34m\u001b[0m\u001b[0m\n\u001b[1;32m     10\u001b[0m \u001b[0mprint\u001b[0m\u001b[0;34m(\u001b[0m\u001b[0mdf\u001b[0m\u001b[0;34m)\u001b[0m\u001b[0;34m\u001b[0m\u001b[0;34m\u001b[0m\u001b[0m\n",
            "\u001b[0;31mTypeError\u001b[0m: 'float' object is not iterable"
          ]
        }
      ]
    },
    {
      "cell_type": "code",
      "source": [
        "#Ranking transformation\n",
        "import pandas as pd\n",
        "df=pd.read_csv(\"/content/auto-mpg.csv\")\n",
        "col='mpg'\n",
        "df[col+'-rank']=df[col].rank(method='dense',ascending=True)\n",
        "print(df)"
      ],
      "metadata": {
        "colab": {
          "base_uri": "https://localhost:8080/"
        },
        "id": "ANaltc2cbXHB",
        "outputId": "1947c3ab-5cf3-46d7-88a9-e893a665a994"
      },
      "execution_count": null,
      "outputs": [
        {
          "output_type": "stream",
          "name": "stdout",
          "text": [
            "      mpg  cylinders  displacement  horsepower  weight  acceleration  \\\n",
            "0    18.0        8.0         307.0       130.0  3504.0          12.0   \n",
            "1    15.0        8.0         350.0       165.0  3693.0          11.5   \n",
            "2    18.0        8.0         318.0       150.0  3436.0          11.0   \n",
            "3    16.0        8.0         304.0       150.0  3433.0          12.0   \n",
            "4    17.0        8.0         302.0       140.0  3449.0          10.5   \n",
            "..    ...        ...           ...         ...     ...           ...   \n",
            "393   NaN        4.0         140.0         NaN  2790.0          15.6   \n",
            "394   NaN        NaN          97.0         NaN  2130.0           NaN   \n",
            "395  32.0        NaN         135.0         NaN  2295.0           NaN   \n",
            "396  28.0        4.0         120.0        79.0  2625.0          18.6   \n",
            "397  31.0        4.0         119.0        82.0  2720.0          19.4   \n",
            "\n",
            "     model-year  mpg-rank  \n",
            "0          70.0      18.0  \n",
            "1          70.0       8.0  \n",
            "2          70.0      18.0  \n",
            "3          70.0      10.0  \n",
            "4          70.0      14.0  \n",
            "..          ...       ...  \n",
            "393        82.0       NaN  \n",
            "394        82.0       NaN  \n",
            "395        82.0      86.0  \n",
            "396        82.0      68.0  \n",
            "397        82.0      80.0  \n",
            "\n",
            "[398 rows x 8 columns]\n"
          ]
        }
      ]
    },
    {
      "cell_type": "code",
      "source": [
        "#Discrentization\n",
        "import pandas as pd\n",
        "df=pd.read_csv(\"/content/auto-mpg.csv\")\n",
        "df['discretization']=pd.cut(df['mpg'],bins=[0,25,50,75,100],labels=['Low','Medium','High','Very High'])\n",
        "print(df)"
      ],
      "metadata": {
        "colab": {
          "base_uri": "https://localhost:8080/"
        },
        "id": "ecfnk0UTcd0s",
        "outputId": "e65fcc01-7994-4399-c35e-be5214e02835"
      },
      "execution_count": null,
      "outputs": [
        {
          "output_type": "stream",
          "name": "stdout",
          "text": [
            "      mpg  cylinders  displacement  horsepower  weight  acceleration  \\\n",
            "0    18.0        8.0         307.0       130.0  3504.0          12.0   \n",
            "1    15.0        8.0         350.0       165.0  3693.0          11.5   \n",
            "2    18.0        8.0         318.0       150.0  3436.0          11.0   \n",
            "3    16.0        8.0         304.0       150.0  3433.0          12.0   \n",
            "4    17.0        8.0         302.0       140.0  3449.0          10.5   \n",
            "..    ...        ...           ...         ...     ...           ...   \n",
            "393   NaN        4.0         140.0         NaN  2790.0          15.6   \n",
            "394   NaN        NaN          97.0         NaN  2130.0           NaN   \n",
            "395  32.0        NaN         135.0         NaN  2295.0           NaN   \n",
            "396  28.0        4.0         120.0        79.0  2625.0          18.6   \n",
            "397  31.0        4.0         119.0        82.0  2720.0          19.4   \n",
            "\n",
            "     model-year discretization  \n",
            "0          70.0            Low  \n",
            "1          70.0            Low  \n",
            "2          70.0            Low  \n",
            "3          70.0            Low  \n",
            "4          70.0            Low  \n",
            "..          ...            ...  \n",
            "393        82.0            NaN  \n",
            "394        82.0            NaN  \n",
            "395        82.0         Medium  \n",
            "396        82.0         Medium  \n",
            "397        82.0         Medium  \n",
            "\n",
            "[398 rows x 8 columns]\n"
          ]
        }
      ]
    }
  ]
}